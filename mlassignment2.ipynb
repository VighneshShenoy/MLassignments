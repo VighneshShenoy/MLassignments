{
 "cells": [
  {
   "cell_type": "code",
   "execution_count": 8,
   "metadata": {},
   "outputs": [
    {
     "name": "stdout",
     "output_type": "stream",
     "text": [
      "length of the tuple is  6\n",
      "Sum of the elements in the tuple is  116\n",
      "Smallest element is 2\n",
      "Largest element is 65\n",
      "\n"
     ]
    }
   ],
   "source": [
    "#Vighnesh Shenoy, Bangalore\n",
    "#1\n",
    "tup=(12,14,15,8,2,65)\n",
    "l=len(tup)\n",
    "#a\n",
    "print(\"length of the tuple is \",l)\n",
    "sum=0\n",
    "#b\n",
    "for i in range(l):\n",
    "    sum=sum+tup[i]\n",
    "print(\"Sum of the elements in the tuple is \",sum)\n",
    "smallest=tup[0]\n",
    "largest=tup[0]\n",
    "#c\n",
    "for i in range(l):\n",
    "    if smallest>tup[i]:\n",
    "        smallest=tup[i]\n",
    "        continue\n",
    "    if largest<tup[i]:\n",
    "        largest=tup[i]\n",
    "        continue\n",
    "print(\"Smallest element is %d\\nLargest element is %d\\n\"%(smallest,largest))"
   ]
  },
  {
   "cell_type": "code",
   "execution_count": 12,
   "metadata": {},
   "outputs": [
    {
     "name": "stdout",
     "output_type": "stream",
     "text": [
      "Enter age of 3 persons A B C\n",
      "15\n",
      "15\n",
      "14\n",
      "B is the oldest\n",
      "\n",
      "C is the youngest\n",
      "\n"
     ]
    }
   ],
   "source": [
    "#2\n",
    "print(\"Enter age of 3 persons A B C\")\n",
    "A=int(input())\n",
    "B=int(input())\n",
    "C=int(input())\n",
    "if A>B:\n",
    "    if A>C:\n",
    "        print(\"A is the oldest\\n\")\n",
    "        if B>C:\n",
    "            print(\"C is the youngest\\n\")\n",
    "        else:\n",
    "            print(\"B is the youngest\\n\")\n",
    "    else:\n",
    "        print(\"C is the oldest\\n\")\n",
    "        print(\"B is the youngest\\n\")\n",
    "else:\n",
    "    if B>C:\n",
    "        print(\"B is the oldest\\n\")\n",
    "        if A>C:\n",
    "            print(\"C is the youngest\\n\")\n",
    "        else:\n",
    "            print(\"A is the youngest\\n\")\n",
    "    else:\n",
    "        print(\"C is the oldest\\n\")\n",
    "        print(\"A is the youngest\\n\")"
   ]
  },
  {
   "cell_type": "code",
   "execution_count": 16,
   "metadata": {},
   "outputs": [
    {
     "name": "stdout",
     "output_type": "stream",
     "text": [
      "enter the quantity of the item5\n",
      "Total cost of items-----> 500\n"
     ]
    }
   ],
   "source": [
    "#3\n",
    "u=100\n",
    "q=int(input(\"enter the quantity of the item\"))\n",
    "tcost=q*u\n",
    "print(\"Total cost of items----->\",tcost)\n",
    "if tcost>1000:\n",
    "    tcost=tcost-0.1*tcost\n",
    "    print(\" Total cost at 10% discount------>\",tcost)"
   ]
  },
  {
   "cell_type": "code",
   "execution_count": 24,
   "metadata": {},
   "outputs": [
    {
     "name": "stdout",
     "output_type": "stream",
     "text": [
      "*\n",
      "\n",
      "**\n",
      "\n",
      "***\n",
      "\n",
      "****\n",
      "\n"
     ]
    }
   ],
   "source": [
    "#4\n",
    "\n",
    "for i in range(4):\n",
    "    for j in range(4):\n",
    "        if(i>=j):\n",
    "            print(\"*\",end=\"\")\n",
    "    print(\"\\n\")"
   ]
  },
  {
   "cell_type": "code",
   "execution_count": 40,
   "metadata": {},
   "outputs": [
    {
     "name": "stdout",
     "output_type": "stream",
     "text": [
      "Enter the no of items 5\n",
      "enter the integer elements\n",
      "1\n",
      "6\n",
      "77\n",
      "34\n",
      "23\n",
      "original list l---> [1, 6, 77, 34, 23]\n",
      "double of lest l, d---> [2, 12, 154, 68, 46]\n"
     ]
    }
   ],
   "source": [
    "#5\n",
    "l=[]\n",
    "n=int(input(\"Enter the no of items \"))\n",
    "print(\"enter the integer elements\")\n",
    "for i in range(n):\n",
    "    l.append(int(input()))\n",
    "d=[]\n",
    "for i in range(len(l)):\n",
    "    d.append(2*l[i])\n",
    "print(\"original list l--->\",l)\n",
    "print(\"double of lest l, d--->\",d)  "
   ]
  },
  {
   "cell_type": "markdown",
   "metadata": {},
   "source": [
    " "
   ]
  }
 ],
 "metadata": {
  "kernelspec": {
   "display_name": "Python 3",
   "language": "python",
   "name": "python3"
  },
  "language_info": {
   "codemirror_mode": {
    "name": "ipython",
    "version": 3
   },
   "file_extension": ".py",
   "mimetype": "text/x-python",
   "name": "python",
   "nbconvert_exporter": "python",
   "pygments_lexer": "ipython3",
   "version": "3.7.6"
  }
 },
 "nbformat": 4,
 "nbformat_minor": 4
}
